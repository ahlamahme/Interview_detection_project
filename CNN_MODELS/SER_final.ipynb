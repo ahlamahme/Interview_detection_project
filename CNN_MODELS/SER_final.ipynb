{
 "cells": [
  {
   "cell_type": "markdown",
   "metadata": {
    "colab_type": "text",
    "id": "CjWvnaQUrZmD"
   },
   "source": [
    "# Speech Emotion Recognition using the RAVDESS AND TESS dataset"
   ]
  },
  {
   "cell_type": "markdown",
   "metadata": {
    "colab_type": "text",
    "id": "uxVUuvOQnG_H"
   },
   "source": [
    "For this task, I have used 5252 samples from\n",
    "\n",
    "the Ryerson Audio-Visual Database of Emotional Speech and Song (RAVDESS) dataset\n",
    "the Toronto emotional speech set (TESS) dataset\n",
    "The samples include:\n",
    "\n",
    "**1440 **speech files and **1012** Song files from **RAVDESS**. This dataset includes recordings of 24 professional actors (12 female, 12 male), vocalizing two lexically-matched statements in a neutral North American accent. Speech includes calm, happy, sad, angry, fearful, surprise, and disgust expressions, and song contains calm, happy, sad, angry, and fearful emotions. Each file was rated 10 times on emotional validity, intensity, and genuineness. Ratings were provided by 247 individuals who were characteristic of untrained adult research participants from North America. A further set of 72 participants provided test-retest data. High levels of emotional validity, interrater reliability, and test-retest intrarater reliability were reported. Validation data is open-access, and can be downloaded along with our paper from PLoS ONE.\n",
    "\n",
    "**2800** files from **TESS**. A set of 200 target words were spoken in the carrier phrase \"Say the word _____' by two actresses (aged 26 and 64 years) and recordings were made of the set portraying each of seven emotions (anger, disgust, fear, happiness, pleasant surprise, sadness, and neutral). There are 2800 stimuli in total. Two actresses were recruited from the Toronto area. Both actresses speak English as their first language, are university educated, and have musical training. Audiometric testing indicated that both actresses have thresholds within the normal range."
   ]
  },
  {
   "cell_type": "markdown",
   "metadata": {
    "colab_type": "text",
    "id": "9tXShPTZno76"
   },
   "source": [
    "Mounting Drive so that we can access the contents directly from the drive"
   ]
  },
  {
   "cell_type": "code",
   "execution_count": 1,
   "metadata": {
    "colab": {
     "base_uri": "https://localhost:8080/",
     "height": 126
    },
    "colab_type": "code",
    "id": "o94IYrgInXFX",
    "outputId": "aaf90ae0-8af4-4835-8dcd-185d366496c9"
   },
   "outputs": [],
   "source": [
    "#from google.colab import drive\n",
    "#drive.mount('/content/drive')"
   ]
  },
  {
   "cell_type": "markdown",
   "metadata": {
    "colab_type": "text",
    "id": "67STjT5On4Wf"
   },
   "source": [
    "Importing Librosa library(A python package) for extracting important features of the audio like the pitch,tone."
   ]
  },
  {
   "cell_type": "code",
   "execution_count": 2,
   "metadata": {
    "colab": {
     "base_uri": "https://localhost:8080/",
     "height": 228
    },
    "colab_type": "code",
    "id": "N3b7x9shnZwp",
    "outputId": "3c16d672-0775-48b3-ba3d-37825f42da05"
   },
   "outputs": [],
   "source": [
    "#!pip install librosa"
   ]
  },
  {
   "cell_type": "markdown",
   "metadata": {
    "colab_type": "text",
    "id": "ywPJyaHHpOGE"
   },
   "source": [
    "Loading one audio file from the drive using librosa.\n",
    "Librosa loads the audio file as a floating point time series."
   ]
  },
  {
   "cell_type": "code",
   "execution_count": 1,
   "metadata": {
    "colab": {},
    "colab_type": "code",
    "id": "aWgCbHxAn1_h"
   },
   "outputs": [],
   "source": [
    "import librosa\n",
    "from librosa import display\n",
    "\n",
    "data, sampling_rate = librosa.load('C:/Users/vip/Documents/speech_final/audio files/RAVADES/Actor_01/03-01-02-02-01-01-01.wav')"
   ]
  },
  {
   "cell_type": "markdown",
   "metadata": {
    "colab_type": "text",
    "id": "Vi77VvlppM5d"
   },
   "source": [
    "Plotting the audio file which was just loaded by librosa using waveplot function of librosa.This Function Plots the amplitude envelope of a waveform."
   ]
  },
  {
   "cell_type": "code",
   "execution_count": 2,
   "metadata": {
    "colab": {
     "base_uri": "https://localhost:8080/",
     "height": 367
    },
    "colab_type": "code",
    "id": "hZintfRxqK1A",
    "outputId": "bf38ea0c-a176-453b-9ddc-3e4bfb57f2a5"
   },
   "outputs": [
    {
     "data": {
      "text/plain": [
       "<matplotlib.collections.PolyCollection at 0x20a67614430>"
      ]
     },
     "execution_count": 2,
     "metadata": {},
     "output_type": "execute_result"
    },
    {
     "data": {
      "image/png": "[encoded data removed]",
      "text/plain": [
       "<Figure size 864x288 with 1 Axes>"
      ]
     },
     "metadata": {
      "needs_background": "light"
     },
     "output_type": "display_data"
    }
   ],
   "source": [
    "import matplotlib.pyplot as plt\n",
    "\n",
    "plt.figure(figsize=(12, 4))\n",
    "librosa.display.waveplot(data, sr=sampling_rate)"
   ]
  },
  {
   "cell_type": "markdown",
   "metadata": {
    "colab_type": "text",
    "id": "jPKKk4wEpMMW"
   },
   "source": [
    "# Load all files\n",
    "\n",
    "We will create our numpy array extracting Mel-frequency cepstral coefficients (MFCCs), while the classes to predict will be extracted from the name of the file (see the introductory section of this notebook to see the naming convention of the files of this dataset)."
   ]
  },
  {
   "cell_type": "code",
   "execution_count": 3,
   "metadata": {
    "colab": {
     "base_uri": "https://localhost:8080/",
     "height": 34
    },
    "colab_type": "code",
    "id": "ZdxY8LUotJCU",
    "outputId": "5e2390c6-afe1-4cea-c73b-db71200ebe49"
   },
   "outputs": [
    {
     "name": "stdout",
     "output_type": "stream",
     "text": [
      "--- Data loaded. Loading time: 635.531991481781 seconds ---\n"
     ]
    }
   ],
   "source": [
    "import time\n",
    "import os\n",
    "import numpy as np\n",
    "path ='C:/Users/vip/Documents/speech_final/audio files/'\n",
    "lst = []\n",
    "\n",
    "start_time = time.time()\n",
    "\n",
    "for subdir, dirs, files in os.walk(path):\n",
    "  for file in files:\n",
    "      try:\n",
    "        #Load librosa array, obtain mfcss, store the file and the mcss information in a new array\n",
    "        X, sample_rate = librosa.load(os.path.join(subdir,file), res_type='kaiser_fast')\n",
    "        mfccs = np.mean(librosa.feature.mfcc(y=X, sr=sample_rate, n_mfcc=40).T,axis=0) \n",
    "        # The instruction below converts the labels (from 1 to 8) to a series from 0 to 7\n",
    "        # This is because our predictor needs to start from 0 otherwise it will try to predict also 0.\n",
    "        file = int(file[7:8]) - 1 \n",
    "        arr = mfccs, file\n",
    "        lst.append(arr)\n",
    "      # If the file is not valid, skip it\n",
    "      except ValueError:\n",
    "        continue\n",
    "\n",
    "print(\"--- Data loaded. Loading time: %s seconds ---\" % (time.time() - start_time))"
   ]
  },
  {
   "cell_type": "code",
   "execution_count": 4,
   "metadata": {
    "colab": {},
    "colab_type": "code",
    "id": "Mi8NEOUItS8f"
   },
   "outputs": [],
   "source": [
    "# Creating X and y: zip makes a list of all the first elements, and a list of all the second elements.\n",
    "X, y = zip(*lst)"
   ]
  },
  {
   "cell_type": "code",
   "execution_count": 5,
   "metadata": {
    "colab": {
     "base_uri": "https://localhost:8080/",
     "height": 34
    },
    "colab_type": "code",
    "id": "Gd6hsVYjukTK",
    "outputId": "8de85110-e0d5-4411-a5c6-523c117176dc"
   },
   "outputs": [
    {
     "data": {
      "text/plain": [
       "((2880, 40), (2880,))"
      ]
     },
     "execution_count": 5,
     "metadata": {},
     "output_type": "execute_result"
    }
   ],
   "source": [
    "import numpy as np\n",
    "X = np.asarray(X)\n",
    "y = np.asarray(y)\n",
    "\n",
    "\n",
    "X.shape, y.shape"
   ]
  },
  {
   "cell_type": "code",
   "execution_count": 6,
   "metadata": {
    "colab": {},
    "colab_type": "code",
    "id": "hK5XIQ4hunMH"
   },
   "outputs": [],
   "source": [
    "# Saving joblib files to not load them again with the loop above\n",
    "\n",
    "import joblib\n",
    "\n",
    "X_name = 'X.joblib'\n",
    "y_name = 'y.joblib'\n",
    "save_dir = 'C:/Users/vip/Documents/speech_final'\n",
    "\n",
    "savedX = joblib.dump(X, os.path.join(save_dir, X_name))\n",
    "savedy = joblib.dump(y, os.path.join(save_dir, y_name))"
   ]
  },
  {
   "cell_type": "code",
   "execution_count": 7,
   "metadata": {
    "colab": {},
    "colab_type": "code",
    "id": "iMEMavtnu2LB"
   },
   "outputs": [],
   "source": [
    "# Loading saved models\n",
    "import joblib\n",
    "X = joblib.load('C:/Users/vip/Documents/speech_final/X.joblib')\n",
    "y = joblib.load('C:/Users/vip/Documents/speech_final/y.joblib')"
   ]
  },
  {
   "cell_type": "markdown",
   "metadata": {
    "colab_type": "text",
    "id": "Agw-3KN1sDhh"
   },
   "source": [
    "# Decision Tree Classifier\n",
    "\n",
    "To make a first attempt in accomplishing this classification task I chose a decision tree:"
   ]
  },
  {
   "cell_type": "code",
   "execution_count": 8,
   "metadata": {
    "colab": {},
    "colab_type": "code",
    "id": "CR4t166IxGdi"
   },
   "outputs": [],
   "source": [
    "from sklearn.model_selection import train_test_split\n",
    "\n",
    "X_train, X_test, y_train, y_test = train_test_split(X,y, test_size=0.33, random_state=42)"
   ]
  },
  {
   "cell_type": "code",
   "execution_count": 9,
   "metadata": {
    "colab": {},
    "colab_type": "code",
    "id": "L_aIVuq9xKgn"
   },
   "outputs": [],
   "source": [
    "from sklearn.tree import DecisionTreeClassifier"
   ]
  },
  {
   "cell_type": "code",
   "execution_count": 10,
   "metadata": {
    "colab": {},
    "colab_type": "code",
    "id": "PRh12VK70wwh"
   },
   "outputs": [],
   "source": [
    "dtree = DecisionTreeClassifier()"
   ]
  },
  {
   "cell_type": "code",
   "execution_count": 11,
   "metadata": {
    "colab": {
     "base_uri": "https://localhost:8080/",
     "height": 122
    },
    "colab_type": "code",
    "id": "jBbgNaz50zPt",
    "outputId": "9c63f143-8108-426a-d682-36284c1634dc"
   },
   "outputs": [
    {
     "data": {
      "text/plain": [
       "DecisionTreeClassifier()"
      ]
     },
     "execution_count": 11,
     "metadata": {},
     "output_type": "execute_result"
    }
   ],
   "source": [
    "dtree.fit(X_train, y_train)"
   ]
  },
  {
   "cell_type": "code",
   "execution_count": 12,
   "metadata": {
    "colab": {},
    "colab_type": "code",
    "id": "xtx3jG6v01v1"
   },
   "outputs": [],
   "source": [
    "predictions = dtree.predict(X_test)"
   ]
  },
  {
   "cell_type": "code",
   "execution_count": 13,
   "metadata": {
    "colab": {
     "base_uri": "https://localhost:8080/",
     "height": 281
    },
    "colab_type": "code",
    "id": "mbWRTHjm06Hn",
    "outputId": "7510b3bb-df6e-4ce1-8ef2-94b019570bc7"
   },
   "outputs": [
    {
     "name": "stdout",
     "output_type": "stream",
     "text": [
      "              precision    recall  f1-score   support\n",
      "\n",
      "           0       0.80      0.64      0.71        73\n",
      "           1       0.74      0.85      0.79       124\n",
      "           2       0.81      0.70      0.75       135\n",
      "           3       0.79      0.83      0.81       109\n",
      "           4       0.78      0.75      0.76       112\n",
      "           5       0.82      0.85      0.84       133\n",
      "           6       0.75      0.77      0.76       133\n",
      "           7       0.76      0.77      0.77       132\n",
      "\n",
      "    accuracy                           0.78       951\n",
      "   macro avg       0.78      0.77      0.78       951\n",
      "weighted avg       0.78      0.78      0.78       951\n",
      "\n"
     ]
    }
   ],
   "source": [
    "from sklearn.metrics import classification_report,confusion_matrix\n",
    "print(classification_report(y_test,predictions))"
   ]
  },
  {
   "cell_type": "markdown",
   "metadata": {
    "colab_type": "text",
    "id": "t9eqMHV3S8i6"
   },
   "source": [
    "# Neural network"
   ]
  },
  {
   "cell_type": "code",
   "execution_count": 14,
   "metadata": {
    "colab": {},
    "colab_type": "code",
    "id": "nIhRgcH3B0gu"
   },
   "outputs": [],
   "source": [
    "import numpy as np\n",
    "x_traincnn = np.expand_dims(X_train, axis=2)\n",
    "x_testcnn = np.expand_dims(X_test, axis=2)"
   ]
  },
  {
   "cell_type": "code",
   "execution_count": 15,
   "metadata": {
    "colab": {
     "base_uri": "https://localhost:8080/",
     "height": 35
    },
    "colab_type": "code",
    "id": "XRg78iarB1OI",
    "outputId": "06b0191f-1dcd-416e-f0e3-01393bb73164"
   },
   "outputs": [
    {
     "data": {
      "text/plain": [
       "((1929, 40, 1), (951, 40, 1))"
      ]
     },
     "execution_count": 15,
     "metadata": {},
     "output_type": "execute_result"
    }
   ],
   "source": [
    "x_traincnn.shape, x_testcnn.shape"
   ]
  },
  {
   "cell_type": "code",
   "execution_count": 16,
   "metadata": {
    "colab": {
     "base_uri": "https://localhost:8080/",
     "height": 35
    },
    "colab_type": "code",
    "id": "LgYdhmGJB4ur",
    "outputId": "7e07341f-fbad-474c-fa50-b88991b23ebe"
   },
   "outputs": [],
   "source": [
    "import keras\n",
    "import numpy as np\n",
    "from tensorflow.keras import optimizers\n",
    "import matplotlib.pyplot as plt\n",
    "import tensorflow as tf\n",
    "from keras.preprocessing import sequence\n",
    "from keras.models import Sequential\n",
    "from keras.layers import Dense, Embedding\n",
    "from tensorflow.keras.utils import to_categorical\n",
    "from keras.layers import Input, Flatten, Dropout, Activation\n",
    "from keras.layers import Conv1D, MaxPooling1D\n",
    "from keras.models import Model\n",
    "from keras.callbacks import ModelCheckpoint\n",
    "\n",
    "\n",
    "model = Sequential()\n",
    "\n",
    "model.add(Conv1D(64, 5,padding='same',\n",
    "                 input_shape=(40,1)))\n",
    "model.add(Activation('relu'))\n",
    "model.add(Dropout(0.1))\n",
    "model.add(MaxPooling1D(pool_size=(4)))\n",
    "model.add(Conv1D(128, 5,padding='same',))\n",
    "model.add(Activation('relu'))\n",
    "model.add(Dropout(0.1))\n",
    "model.add(MaxPooling1D(pool_size=(4)))\n",
    "model.add(Conv1D(256, 5,padding='same',))\n",
    "model.add(Activation('relu'))\n",
    "model.add(Dropout(0.1))\n",
    "model.add(Flatten())\n",
    "model.add(Dense(8))\n",
    "model.add(Activation('softmax'))\n",
    "opt = tf.keras.optimizers.RMSprop(learning_rate=0.00005, rho=0.9, epsilon=1e-07, decay=0.0)"
   ]
  },
  {
   "cell_type": "code",
   "execution_count": 17,
   "metadata": {
    "colab": {
     "base_uri": "https://localhost:8080/",
     "height": 657
    },
    "colab_type": "code",
    "id": "ImZFafVANMP_",
    "outputId": "d03e9f1d-9bd0-4a99-f9be-cf9b889d679a"
   },
   "outputs": [
    {
     "name": "stdout",
     "output_type": "stream",
     "text": [
      "Model: \"sequential\"\n",
      "_________________________________________________________________\n",
      "Layer (type)                 Output Shape              Param #   \n",
      "=================================================================\n",
      "conv1d (Conv1D)              (None, 40, 64)            384       \n",
      "_________________________________________________________________\n",
      "activation (Activation)      (None, 40, 64)            0         \n",
      "_________________________________________________________________\n",
      "dropout (Dropout)            (None, 40, 64)            0         \n",
      "_________________________________________________________________\n",
      "max_pooling1d (MaxPooling1D) (None, 10, 64)            0         \n",
      "_________________________________________________________________\n",
      "conv1d_1 (Conv1D)            (None, 10, 128)           41088     \n",
      "_________________________________________________________________\n",
      "activation_1 (Activation)    (None, 10, 128)           0         \n",
      "_________________________________________________________________\n",
      "dropout_1 (Dropout)          (None, 10, 128)           0         \n",
      "_________________________________________________________________\n",
      "max_pooling1d_1 (MaxPooling1 (None, 2, 128)            0         \n",
      "_________________________________________________________________\n",
      "conv1d_2 (Conv1D)            (None, 2, 256)            164096    \n",
      "_________________________________________________________________\n",
      "activation_2 (Activation)    (None, 2, 256)            0         \n",
      "_________________________________________________________________\n",
      "dropout_2 (Dropout)          (None, 2, 256)            0         \n",
      "_________________________________________________________________\n",
      "flatten (Flatten)            (None, 512)               0         \n",
      "_________________________________________________________________\n",
      "dense (Dense)                (None, 8)                 4104      \n",
      "_________________________________________________________________\n",
      "activation_3 (Activation)    (None, 8)                 0         \n",
      "=================================================================\n",
      "Total params: 209,672\n",
      "Trainable params: 209,672\n",
      "Non-trainable params: 0\n",
      "_________________________________________________________________\n"
     ]
    }
   ],
   "source": [
    "model.summary()"
   ]
  },
  {
   "cell_type": "code",
   "execution_count": 18,
   "metadata": {},
   "outputs": [],
   "source": [
    "#I used two callbacks one is `early stopping` for avoiding overfitting training data\n",
    "#and other `ReduceLROnPlateau` for learning rate.\n",
    "from tensorflow.keras.callbacks import Callback, EarlyStopping, ReduceLROnPlateau\n",
    "early_stopping = EarlyStopping(\n",
    "    monitor='val_accuracy',\n",
    "    min_delta=0.00005,\n",
    "    patience=11,\n",
    "    verbose=1,\n",
    "    restore_best_weights=True,\n",
    ")\n",
    "\n",
    "lr_scheduler = ReduceLROnPlateau(\n",
    "    monitor='val_accuracy',\n",
    "    factor=0.5,\n",
    "    patience=7,\n",
    "    min_lr=1e-7,\n",
    "    verbose=1,\n",
    ")\n",
    "\n",
    "callbacks = [\n",
    "    early_stopping,\n",
    "    lr_scheduler,\n",
    "]"
   ]
  },
  {
   "cell_type": "code",
   "execution_count": 19,
   "metadata": {
    "colab": {},
    "colab_type": "code",
    "id": "s8LuQtKzON7i"
   },
   "outputs": [],
   "source": [
    "model.compile(loss='sparse_categorical_crossentropy',\n",
    "              optimizer='Adam',\n",
    "              metrics=['accuracy']\n",
    "             )\n"
   ]
  },
  {
   "cell_type": "code",
   "execution_count": 20,
   "metadata": {
    "colab": {
     "base_uri": "https://localhost:8080/",
     "height": 1000
    },
    "colab_type": "code",
    "id": "cQKYfMONOow7",
    "outputId": "6fc8e1ad-5271-4f86-f238-fee2045ade1e"
   },
   "outputs": [
    {
     "name": "stdout",
     "output_type": "stream",
     "text": [
      "Epoch 1/500\n",
      "31/31 [==============================] - 4s 23ms/step - loss: 6.3575 - accuracy: 0.1353 - val_loss: 2.1375 - val_accuracy: 0.2208\n",
      "Epoch 2/500\n",
      "31/31 [==============================] - 0s 12ms/step - loss: 2.0927 - accuracy: 0.1804 - val_loss: 1.9692 - val_accuracy: 0.2450\n",
      "Epoch 3/500\n",
      "31/31 [==============================] - 0s 12ms/step - loss: 1.9958 - accuracy: 0.2286 - val_loss: 1.8907 - val_accuracy: 0.2503\n",
      "Epoch 4/500\n",
      "31/31 [==============================] - 0s 11ms/step - loss: 1.9390 - accuracy: 0.2426 - val_loss: 1.8429 - val_accuracy: 0.2934\n",
      "Epoch 5/500\n",
      "31/31 [==============================] - 0s 11ms/step - loss: 1.8786 - accuracy: 0.2680 - val_loss: 1.8182 - val_accuracy: 0.2986\n",
      "Epoch 6/500\n",
      "31/31 [==============================] - 0s 11ms/step - loss: 1.8222 - accuracy: 0.3022 - val_loss: 1.7852 - val_accuracy: 0.3228\n",
      "Epoch 7/500\n",
      "31/31 [==============================] - 0s 12ms/step - loss: 1.7897 - accuracy: 0.3012 - val_loss: 1.7477 - val_accuracy: 0.3102\n",
      "Epoch 8/500\n",
      "31/31 [==============================] - 0s 12ms/step - loss: 1.7365 - accuracy: 0.3364 - val_loss: 1.6834 - val_accuracy: 0.3733\n",
      "Epoch 9/500\n",
      "31/31 [==============================] - 0s 13ms/step - loss: 1.7128 - accuracy: 0.3515 - val_loss: 1.6754 - val_accuracy: 0.3554\n",
      "Epoch 10/500\n",
      "31/31 [==============================] - 0s 13ms/step - loss: 1.6426 - accuracy: 0.3665 - val_loss: 1.6331 - val_accuracy: 0.3838\n",
      "Epoch 11/500\n",
      "31/31 [==============================] - 0s 13ms/step - loss: 1.5971 - accuracy: 0.3924 - val_loss: 1.6387 - val_accuracy: 0.4111\n",
      "Epoch 12/500\n",
      "31/31 [==============================] - 0s 13ms/step - loss: 1.5817 - accuracy: 0.4080 - val_loss: 1.5556 - val_accuracy: 0.4332\n",
      "Epoch 13/500\n",
      "31/31 [==============================] - 0s 12ms/step - loss: 1.5030 - accuracy: 0.4370 - val_loss: 1.5388 - val_accuracy: 0.4364\n",
      "Epoch 14/500\n",
      "31/31 [==============================] - 0s 13ms/step - loss: 1.4735 - accuracy: 0.4292 - val_loss: 1.4939 - val_accuracy: 0.4364\n",
      "Epoch 15/500\n",
      "31/31 [==============================] - 0s 11ms/step - loss: 1.4167 - accuracy: 0.4759 - val_loss: 1.5012 - val_accuracy: 0.4501\n",
      "Epoch 16/500\n",
      "31/31 [==============================] - 0s 12ms/step - loss: 1.3660 - accuracy: 0.5018 - val_loss: 1.4293 - val_accuracy: 0.4784\n",
      "Epoch 17/500\n",
      "31/31 [==============================] - 0s 11ms/step - loss: 1.3370 - accuracy: 0.5008 - val_loss: 1.4475 - val_accuracy: 0.5279\n",
      "Epoch 18/500\n",
      "31/31 [==============================] - 0s 12ms/step - loss: 1.2997 - accuracy: 0.5272 - val_loss: 1.3697 - val_accuracy: 0.5205\n",
      "Epoch 19/500\n",
      "31/31 [==============================] - 0s 12ms/step - loss: 1.2821 - accuracy: 0.5179 - val_loss: 1.3269 - val_accuracy: 0.5478\n",
      "Epoch 20/500\n",
      "31/31 [==============================] - 0s 12ms/step - loss: 1.2257 - accuracy: 0.5609 - val_loss: 1.3000 - val_accuracy: 0.5363\n",
      "Epoch 21/500\n",
      "31/31 [==============================] - 0s 11ms/step - loss: 1.1649 - accuracy: 0.5780 - val_loss: 1.2984 - val_accuracy: 0.5678\n",
      "Epoch 22/500\n",
      "31/31 [==============================] - 0s 11ms/step - loss: 1.1760 - accuracy: 0.5692 - val_loss: 1.2929 - val_accuracy: 0.5573\n",
      "Epoch 23/500\n",
      "31/31 [==============================] - 0s 11ms/step - loss: 1.1524 - accuracy: 0.5832 - val_loss: 1.2140 - val_accuracy: 0.5899\n",
      "Epoch 24/500\n",
      "31/31 [==============================] - 0s 12ms/step - loss: 1.0957 - accuracy: 0.6117 - val_loss: 1.2544 - val_accuracy: 0.5752\n",
      "Epoch 25/500\n",
      "31/31 [==============================] - 0s 11ms/step - loss: 1.0599 - accuracy: 0.6081 - val_loss: 1.1835 - val_accuracy: 0.6004\n",
      "Epoch 26/500\n",
      "31/31 [==============================] - 0s 13ms/step - loss: 1.0111 - accuracy: 0.6335 - val_loss: 1.1522 - val_accuracy: 0.6036\n",
      "Epoch 27/500\n",
      "31/31 [==============================] - 0s 12ms/step - loss: 1.0046 - accuracy: 0.6407 - val_loss: 1.1223 - val_accuracy: 0.5941\n",
      "Epoch 28/500\n",
      "31/31 [==============================] - 0s 11ms/step - loss: 0.9394 - accuracy: 0.6641 - val_loss: 1.0572 - val_accuracy: 0.6477\n",
      "Epoch 29/500\n",
      "31/31 [==============================] - 0s 11ms/step - loss: 0.9463 - accuracy: 0.6568 - val_loss: 1.2070 - val_accuracy: 0.5868\n",
      "Epoch 30/500\n",
      "31/31 [==============================] - 0s 12ms/step - loss: 0.9991 - accuracy: 0.6418 - val_loss: 1.0506 - val_accuracy: 0.6782\n",
      "Epoch 31/500\n",
      "31/31 [==============================] - 0s 11ms/step - loss: 0.8951 - accuracy: 0.6858 - val_loss: 1.0219 - val_accuracy: 0.6646\n",
      "Epoch 32/500\n",
      "31/31 [==============================] - 0s 14ms/step - loss: 0.8350 - accuracy: 0.7024 - val_loss: 1.0291 - val_accuracy: 0.6572\n",
      "Epoch 33/500\n",
      "31/31 [==============================] - 1s 17ms/step - loss: 0.8419 - accuracy: 0.7004 - val_loss: 1.0580 - val_accuracy: 0.6425\n",
      "Epoch 34/500\n",
      "31/31 [==============================] - 1s 18ms/step - loss: 0.8172 - accuracy: 0.7035 - val_loss: 0.9772 - val_accuracy: 0.6887\n",
      "Epoch 35/500\n",
      "31/31 [==============================] - 1s 20ms/step - loss: 0.7747 - accuracy: 0.7216 - val_loss: 0.9747 - val_accuracy: 0.6477\n",
      "Epoch 36/500\n",
      "31/31 [==============================] - 1s 21ms/step - loss: 0.7749 - accuracy: 0.7211 - val_loss: 0.8857 - val_accuracy: 0.7224\n",
      "Epoch 37/500\n",
      "31/31 [==============================] - 1s 17ms/step - loss: 0.7128 - accuracy: 0.7434 - val_loss: 0.9668 - val_accuracy: 0.6719\n",
      "Epoch 38/500\n",
      "31/31 [==============================] - 1s 17ms/step - loss: 0.7496 - accuracy: 0.7309 - val_loss: 0.9338 - val_accuracy: 0.7066\n",
      "Epoch 39/500\n",
      "31/31 [==============================] - 0s 16ms/step - loss: 0.6732 - accuracy: 0.7543 - val_loss: 0.9263 - val_accuracy: 0.6982\n",
      "Epoch 40/500\n",
      "31/31 [==============================] - 0s 16ms/step - loss: 0.6611 - accuracy: 0.7641 - val_loss: 0.9389 - val_accuracy: 0.7119\n",
      "Epoch 41/500\n",
      "31/31 [==============================] - 0s 15ms/step - loss: 0.6268 - accuracy: 0.7875 - val_loss: 0.8517 - val_accuracy: 0.7192\n",
      "Epoch 42/500\n",
      "31/31 [==============================] - 0s 15ms/step - loss: 0.5982 - accuracy: 0.7968 - val_loss: 0.8444 - val_accuracy: 0.7308\n",
      "Epoch 43/500\n",
      "31/31 [==============================] - 0s 15ms/step - loss: 0.6071 - accuracy: 0.7843 - val_loss: 0.7734 - val_accuracy: 0.7497\n",
      "Epoch 44/500\n",
      "31/31 [==============================] - 0s 16ms/step - loss: 0.5307 - accuracy: 0.8206 - val_loss: 0.7544 - val_accuracy: 0.7634\n",
      "Epoch 45/500\n",
      "31/31 [==============================] - 0s 15ms/step - loss: 0.5416 - accuracy: 0.8087 - val_loss: 0.8032 - val_accuracy: 0.7403\n",
      "Epoch 46/500\n",
      "31/31 [==============================] - 0s 16ms/step - loss: 0.5246 - accuracy: 0.8123 - val_loss: 0.7635 - val_accuracy: 0.7655\n",
      "Epoch 47/500\n",
      "31/31 [==============================] - 0s 16ms/step - loss: 0.5036 - accuracy: 0.8279 - val_loss: 0.7954 - val_accuracy: 0.7508\n",
      "Epoch 48/500\n",
      "31/31 [==============================] - 1s 16ms/step - loss: 0.4747 - accuracy: 0.8466 - val_loss: 0.7016 - val_accuracy: 0.7813\n",
      "Epoch 49/500\n",
      "31/31 [==============================] - 0s 15ms/step - loss: 0.4841 - accuracy: 0.8398 - val_loss: 0.7512 - val_accuracy: 0.7676\n",
      "Epoch 50/500\n",
      "31/31 [==============================] - 0s 16ms/step - loss: 0.4762 - accuracy: 0.8289 - val_loss: 0.7010 - val_accuracy: 0.7844\n",
      "Epoch 51/500\n",
      "31/31 [==============================] - 0s 15ms/step - loss: 0.4518 - accuracy: 0.8419 - val_loss: 0.7459 - val_accuracy: 0.7592\n",
      "Epoch 52/500\n",
      "31/31 [==============================] - 0s 14ms/step - loss: 0.4275 - accuracy: 0.8590 - val_loss: 0.6832 - val_accuracy: 0.8034\n",
      "Epoch 53/500\n",
      "31/31 [==============================] - 0s 14ms/step - loss: 0.4483 - accuracy: 0.8388 - val_loss: 0.7878 - val_accuracy: 0.7550\n",
      "Epoch 54/500\n",
      "31/31 [==============================] - 0s 14ms/step - loss: 0.4063 - accuracy: 0.8580 - val_loss: 0.7318 - val_accuracy: 0.7886\n",
      "Epoch 55/500\n",
      "31/31 [==============================] - 0s 14ms/step - loss: 0.3928 - accuracy: 0.8631 - val_loss: 0.7366 - val_accuracy: 0.7865\n",
      "Epoch 56/500\n",
      "31/31 [==============================] - 0s 14ms/step - loss: 0.4294 - accuracy: 0.8471 - val_loss: 0.6639 - val_accuracy: 0.8044\n",
      "Epoch 57/500\n",
      "31/31 [==============================] - 0s 13ms/step - loss: 0.4063 - accuracy: 0.8600 - val_loss: 0.6620 - val_accuracy: 0.8202\n",
      "Epoch 58/500\n"
     ]
    },
    {
     "name": "stdout",
     "output_type": "stream",
     "text": [
      "31/31 [==============================] - 0s 13ms/step - loss: 0.3934 - accuracy: 0.8704 - val_loss: 0.6953 - val_accuracy: 0.8149\n",
      "Epoch 59/500\n",
      "31/31 [==============================] - 0s 13ms/step - loss: 0.3306 - accuracy: 0.8818 - val_loss: 0.6482 - val_accuracy: 0.8086\n",
      "Epoch 60/500\n",
      "31/31 [==============================] - 0s 12ms/step - loss: 0.3193 - accuracy: 0.8896 - val_loss: 0.6330 - val_accuracy: 0.8233\n",
      "Epoch 61/500\n",
      "31/31 [==============================] - 0s 13ms/step - loss: 0.3289 - accuracy: 0.8818 - val_loss: 0.6288 - val_accuracy: 0.8328\n",
      "Epoch 62/500\n",
      "31/31 [==============================] - 0s 13ms/step - loss: 0.3482 - accuracy: 0.8860 - val_loss: 0.6316 - val_accuracy: 0.8202\n",
      "Epoch 63/500\n",
      "31/31 [==============================] - 0s 13ms/step - loss: 0.3157 - accuracy: 0.9020 - val_loss: 0.6108 - val_accuracy: 0.8244\n",
      "Epoch 64/500\n",
      "31/31 [==============================] - 0s 13ms/step - loss: 0.3291 - accuracy: 0.8844 - val_loss: 0.6285 - val_accuracy: 0.8034\n",
      "Epoch 65/500\n",
      "31/31 [==============================] - 0s 13ms/step - loss: 0.3094 - accuracy: 0.8942 - val_loss: 0.6340 - val_accuracy: 0.8381\n",
      "Epoch 66/500\n",
      "31/31 [==============================] - 0s 13ms/step - loss: 0.2876 - accuracy: 0.8932 - val_loss: 0.5969 - val_accuracy: 0.8549\n",
      "Epoch 67/500\n",
      "31/31 [==============================] - 0s 13ms/step - loss: 0.2819 - accuracy: 0.9072 - val_loss: 0.5901 - val_accuracy: 0.8433\n",
      "Epoch 68/500\n",
      "31/31 [==============================] - 0s 13ms/step - loss: 0.2716 - accuracy: 0.9098 - val_loss: 0.5788 - val_accuracy: 0.8601\n",
      "Epoch 69/500\n",
      "31/31 [==============================] - 0s 12ms/step - loss: 0.2919 - accuracy: 0.8963 - val_loss: 0.6027 - val_accuracy: 0.8570\n",
      "Epoch 70/500\n",
      "31/31 [==============================] - 0s 13ms/step - loss: 0.2772 - accuracy: 0.9051 - val_loss: 0.5787 - val_accuracy: 0.8496\n",
      "Epoch 71/500\n",
      "31/31 [==============================] - 0s 12ms/step - loss: 0.3305 - accuracy: 0.8787 - val_loss: 0.5840 - val_accuracy: 0.8538\n",
      "Epoch 72/500\n",
      "31/31 [==============================] - 0s 12ms/step - loss: 0.2865 - accuracy: 0.8984 - val_loss: 0.6051 - val_accuracy: 0.8528\n",
      "Epoch 73/500\n",
      "31/31 [==============================] - 0s 13ms/step - loss: 0.2360 - accuracy: 0.9285 - val_loss: 0.6068 - val_accuracy: 0.8475\n",
      "Epoch 74/500\n",
      "31/31 [==============================] - 0s 13ms/step - loss: 0.2875 - accuracy: 0.8994 - val_loss: 0.6080 - val_accuracy: 0.8318\n",
      "Epoch 75/500\n",
      "31/31 [==============================] - 0s 12ms/step - loss: 0.2328 - accuracy: 0.9196 - val_loss: 0.5754 - val_accuracy: 0.8549\n",
      "\n",
      "Epoch 00075: ReduceLROnPlateau reducing learning rate to 0.0005000000237487257.\n",
      "Epoch 76/500\n",
      "31/31 [==============================] - 0s 12ms/step - loss: 0.1852 - accuracy: 0.9461 - val_loss: 0.5568 - val_accuracy: 0.8654\n",
      "Epoch 77/500\n",
      "31/31 [==============================] - 0s 13ms/step - loss: 0.1823 - accuracy: 0.9440 - val_loss: 0.5206 - val_accuracy: 0.8749\n",
      "Epoch 78/500\n",
      "31/31 [==============================] - 0s 13ms/step - loss: 0.1981 - accuracy: 0.9357 - val_loss: 0.5616 - val_accuracy: 0.8654\n",
      "Epoch 79/500\n",
      "31/31 [==============================] - 0s 13ms/step - loss: 0.1864 - accuracy: 0.9482 - val_loss: 0.5263 - val_accuracy: 0.8780\n",
      "Epoch 80/500\n",
      "31/31 [==============================] - 0s 13ms/step - loss: 0.1718 - accuracy: 0.9435 - val_loss: 0.5127 - val_accuracy: 0.8780\n",
      "Epoch 81/500\n",
      "31/31 [==============================] - 0s 13ms/step - loss: 0.1917 - accuracy: 0.9362 - val_loss: 0.5278 - val_accuracy: 0.8833\n",
      "Epoch 82/500\n",
      "31/31 [==============================] - 0s 13ms/step - loss: 0.1842 - accuracy: 0.9425 - val_loss: 0.5027 - val_accuracy: 0.8917\n",
      "Epoch 83/500\n",
      "31/31 [==============================] - 0s 14ms/step - loss: 0.1586 - accuracy: 0.9482 - val_loss: 0.5059 - val_accuracy: 0.8885\n",
      "Epoch 84/500\n",
      "31/31 [==============================] - 0s 15ms/step - loss: 0.1574 - accuracy: 0.9508 - val_loss: 0.5218 - val_accuracy: 0.8717\n",
      "Epoch 85/500\n",
      "31/31 [==============================] - 0s 15ms/step - loss: 0.1621 - accuracy: 0.9518 - val_loss: 0.5413 - val_accuracy: 0.8696\n",
      "Epoch 86/500\n",
      "31/31 [==============================] - 0s 15ms/step - loss: 0.1435 - accuracy: 0.9606 - val_loss: 0.5426 - val_accuracy: 0.8580\n",
      "Epoch 87/500\n",
      "31/31 [==============================] - 0s 15ms/step - loss: 0.1706 - accuracy: 0.9425 - val_loss: 0.5102 - val_accuracy: 0.8780\n",
      "Epoch 88/500\n",
      "31/31 [==============================] - 0s 15ms/step - loss: 0.1510 - accuracy: 0.9554 - val_loss: 0.5211 - val_accuracy: 0.8822\n",
      "Epoch 89/500\n",
      "31/31 [==============================] - 0s 13ms/step - loss: 0.1531 - accuracy: 0.9502 - val_loss: 0.5147 - val_accuracy: 0.8749\n",
      "\n",
      "Epoch 00089: ReduceLROnPlateau reducing learning rate to 0.0002500000118743628.\n",
      "Epoch 90/500\n",
      "31/31 [==============================] - 0s 13ms/step - loss: 0.1585 - accuracy: 0.9513 - val_loss: 0.4869 - val_accuracy: 0.8896\n",
      "Epoch 91/500\n",
      "31/31 [==============================] - 0s 13ms/step - loss: 0.1429 - accuracy: 0.9559 - val_loss: 0.5046 - val_accuracy: 0.8854\n",
      "Epoch 92/500\n",
      "31/31 [==============================] - 0s 13ms/step - loss: 0.1323 - accuracy: 0.9554 - val_loss: 0.5047 - val_accuracy: 0.8707\n",
      "Epoch 93/500\n",
      "31/31 [==============================] - 0s 13ms/step - loss: 0.1203 - accuracy: 0.9673 - val_loss: 0.4885 - val_accuracy: 0.8738\n",
      "Restoring model weights from the end of the best epoch.\n",
      "Epoch 00093: early stopping\n"
     ]
    }
   ],
   "source": [
    "cnnhistory=model.fit(x_traincnn, y_train, batch_size=64, epochs=500, validation_data=(x_testcnn, y_test),callbacks=callbacks)"
   ]
  },
  {
   "cell_type": "code",
   "execution_count": 21,
   "metadata": {
    "colab": {
     "base_uri": "https://localhost:8080/",
     "height": 295
    },
    "colab_type": "code",
    "id": "WEomk3HUOwSz",
    "outputId": "1cde7e1d-64a5-4c41-b1ef-b68f08982e49"
   },
   "outputs": [
    {
     "data": {
      "image/png": "[encoded data removed]",
      "text/plain": [
       "<Figure size 432x288 with 1 Axes>"
      ]
     },
     "metadata": {
      "needs_background": "light"
     },
     "output_type": "display_data"
    }
   ],
   "source": [
    "plt.plot(cnnhistory.history['loss'])\n",
    "plt.plot(cnnhistory.history['val_loss'])\n",
    "plt.title('model loss')\n",
    "plt.ylabel('loss')\n",
    "plt.xlabel('epoch')\n",
    "plt.legend(['train', 'test'], loc='upper left')\n",
    "plt.show()"
   ]
  },
  {
   "cell_type": "code",
   "execution_count": 22,
   "metadata": {
    "colab": {
     "base_uri": "https://localhost:8080/",
     "height": 295
    },
    "colab_type": "code",
    "id": "n4UNnOn80S_3",
    "outputId": "37e334a6-5adf-4fbb-c478-070c5501c5b3"
   },
   "outputs": [
    {
     "data": {
      "image/png": "[encoded data removed]",
      "text/plain": [
       "<Figure size 432x288 with 1 Axes>"
      ]
     },
     "metadata": {
      "needs_background": "light"
     },
     "output_type": "display_data"
    }
   ],
   "source": [
    "plt.plot(cnnhistory.history['accuracy'])\n",
    "plt.plot(cnnhistory.history['val_accuracy'])\n",
    "plt.title('model accuracy')\n",
    "plt.ylabel('accuracy')\n",
    "plt.xlabel('epoch')\n",
    "plt.legend(['train', 'test'], loc='upper left')\n",
    "plt.show()"
   ]
  },
  {
   "cell_type": "code",
   "execution_count": 23,
   "metadata": {
    "colab": {},
    "colab_type": "code",
    "id": "CSR0-VCVPO81"
   },
   "outputs": [],
   "source": [
    "#predictions = model.predict_classes(x_testcnn)\n",
    "predict_x=model.predict(x_testcnn)\n",
    "classes_x=np.argmax(predict_x,axis=1)"
   ]
  },
  {
   "cell_type": "code",
   "execution_count": 24,
   "metadata": {
    "colab": {
     "base_uri": "https://localhost:8080/",
     "height": 35
    },
    "colab_type": "code",
    "id": "7uKNuzd6PVZi",
    "outputId": "44bc4bc2-057e-47a5-ee3e-8cef839277d3"
   },
   "outputs": [
    {
     "data": {
      "text/plain": [
       "array([0, 2, 5, 5, 2, 7, 6, 4, 6, 0, 2, 3, 1, 3, 5, 6, 2, 7, 2, 7, 7, 3,\n",
       "       1, 4, 5, 2, 3, 6, 2, 7, 4, 2, 4, 7, 4, 6, 2, 2, 7, 1, 4, 5, 0, 4,\n",
       "       3, 6, 0, 7, 7, 2, 6, 3, 3, 2, 3, 1, 3, 0, 2, 6, 7, 7, 6, 6, 3, 6,\n",
       "       6, 5, 7, 3, 1, 2, 4, 6, 4, 1, 6, 6, 4, 5, 3, 5, 4, 7, 7, 6, 7, 1,\n",
       "       1, 5, 6, 4, 5, 4, 7, 7, 2, 1, 1, 1, 2, 5, 2, 5, 1, 4, 4, 5, 5, 1,\n",
       "       0, 3, 2, 4, 5, 4, 7, 7, 5, 7, 3, 3, 6, 3, 5, 7, 2, 2, 6, 4, 3, 3,\n",
       "       2, 1, 7, 7, 4, 3, 2, 7, 1, 6, 2, 2, 7, 5, 7, 5, 7, 6, 0, 4, 0, 7,\n",
       "       7, 0, 1, 3, 4, 3, 6, 2, 2, 1, 4, 3, 1, 4, 1, 5, 3, 6, 4, 5, 4, 0,\n",
       "       6, 7, 7, 0, 4, 7, 5, 5, 5, 6, 6, 2, 3, 6, 6, 2, 5, 7, 3, 6, 1, 1,\n",
       "       7, 7, 4, 2, 7, 4, 3, 3, 5, 4, 0, 1, 5, 7, 7, 3, 5, 4, 3, 5, 4, 2,\n",
       "       7, 6, 0, 2, 6, 2, 6, 5, 2, 1, 3, 7, 1, 1, 7, 1, 3, 3, 1, 5, 6, 6,\n",
       "       6, 7, 7, 4, 1, 5, 2, 5, 5, 7, 7, 3, 3, 1, 1, 1, 7, 5, 6, 2, 2, 1,\n",
       "       0, 3, 2, 3, 5, 7, 3, 1, 2, 2, 1, 7, 2, 7, 1, 1, 4, 5, 2, 7, 6, 5,\n",
       "       7, 5, 7, 7, 1, 1, 4, 6, 7, 1, 6, 0, 3, 6, 4, 4, 5, 2, 5, 2, 6, 1,\n",
       "       1, 6, 5, 3, 1, 4, 5, 0, 5, 4, 2, 5, 0, 2, 4, 3, 4, 6, 0, 4, 5, 2,\n",
       "       5, 4, 2, 7, 0, 1, 3, 2, 3, 7, 5, 1, 3, 7, 6, 6, 0, 0, 4, 3, 1, 6,\n",
       "       5, 2, 6, 4, 1, 1, 3, 6, 0, 3, 1, 1, 1, 7, 4, 1, 2, 1, 4, 5, 6, 2,\n",
       "       1, 7, 5, 6, 4, 7, 3, 1, 4, 7, 1, 5, 6, 6, 1, 6, 2, 1, 6, 4, 1, 3,\n",
       "       3, 3, 4, 1, 7, 6, 5, 4, 1, 0, 6, 1, 6, 6, 5, 7, 5, 7, 3, 5, 6, 5,\n",
       "       1, 4, 7, 4, 5, 1, 3, 7, 3, 7, 7, 4, 7, 0, 2, 2, 7, 6, 1, 2, 3, 5,\n",
       "       4, 2, 7, 6, 5, 5, 5, 3, 5, 4, 2, 6, 3, 3, 1, 6, 1, 3, 5, 3, 5, 1,\n",
       "       7, 3, 5, 7, 6, 6, 2, 1, 6, 6, 6, 1, 7, 3, 0, 5, 5, 3, 7, 7, 7, 4,\n",
       "       6, 2, 7, 3, 5, 5, 4, 2, 1, 7, 2, 4, 6, 6, 5, 1, 5, 2, 5, 2, 7, 3,\n",
       "       5, 2, 2, 5, 4, 6, 3, 4, 7, 2, 2, 4, 1, 1, 1, 4, 4, 1, 6, 4, 7, 1,\n",
       "       2, 6, 5, 7, 2, 4, 1, 2, 4, 3, 0, 5, 5, 4, 2, 3, 1, 1, 6, 1, 2, 2,\n",
       "       5, 6, 7, 5, 4, 7, 0, 1, 6, 7, 5, 5, 6, 2, 7, 1, 3, 5, 2, 6, 6, 4,\n",
       "       6, 3, 5, 0, 2, 1, 6, 1, 3, 1, 0, 2, 4, 3, 7, 5, 4, 3, 5, 2, 5, 1,\n",
       "       2, 2, 2, 7, 5, 0, 1, 5, 2, 2, 3, 7, 2, 3, 0, 1, 2, 7, 7, 4, 4, 7,\n",
       "       0, 1, 0, 5, 7, 6, 1, 4, 7, 7, 4, 1, 3, 6, 2, 1, 5, 3, 3, 4, 6, 4,\n",
       "       1, 3, 6, 7, 5, 4, 3, 3, 2, 4, 6, 6, 5, 2, 6, 1, 0, 3, 3, 1, 7, 4,\n",
       "       6, 6, 0, 6, 6, 4, 6, 2, 3, 6, 6, 5, 7, 1, 6, 2, 2, 1, 7, 0, 4, 1,\n",
       "       3, 0, 6, 5, 4, 2, 2, 4, 2, 4, 1, 7, 5, 0, 6, 5, 7, 3, 0, 7, 6, 6,\n",
       "       4, 3, 4, 2, 0, 6, 6, 7, 2, 2, 5, 4, 1, 2, 4, 6, 3, 6, 0, 6, 5, 4,\n",
       "       6, 6, 7, 5, 3, 6, 7, 1, 1, 0, 6, 5, 2, 1, 6, 6, 6, 7, 6, 5, 4, 0,\n",
       "       7, 5, 3, 5, 6, 5, 3, 1, 1, 1, 6, 5, 3, 2, 1, 1, 0, 7, 5, 0, 1, 5,\n",
       "       0, 0, 1, 7, 7, 3, 7, 6, 4, 7, 3, 3, 2, 7, 5, 6, 1, 6, 4, 0, 5, 5,\n",
       "       6, 3, 4, 2, 6, 3, 1, 1, 1, 0, 1, 1, 1, 1, 3, 2, 5, 4, 4, 1, 2, 6,\n",
       "       4, 5, 3, 7, 0, 6, 5, 1, 0, 6, 7, 5, 0, 7, 3, 4, 7, 5, 7, 6, 4, 1,\n",
       "       3, 5, 3, 7, 5, 3, 3, 2, 3, 6, 2, 5, 7, 7, 1, 1, 7, 4, 4, 4, 7, 2,\n",
       "       1, 5, 5, 5, 0, 6, 4, 3, 5, 3, 1, 6, 2, 2, 2, 5, 1, 5, 7, 5, 1, 0,\n",
       "       4, 0, 7, 6, 5, 6, 1, 3, 5, 6, 5, 1, 5, 0, 5, 7, 0, 7, 6, 1, 1, 2,\n",
       "       5, 7, 1, 4, 5, 7, 1, 1, 6, 1, 2, 7, 2, 2, 3, 1, 3, 2, 1, 6, 3, 5,\n",
       "       7, 0, 6, 1, 1, 1, 5, 1, 3, 6, 1, 7, 3, 4, 1, 3, 5, 3, 3, 6, 2, 7,\n",
       "       1, 2, 4, 5, 0])"
      ]
     },
     "execution_count": 24,
     "metadata": {},
     "output_type": "execute_result"
    }
   ],
   "source": [
    "predictions"
   ]
  },
  {
   "cell_type": "code",
   "execution_count": 25,
   "metadata": {
    "colab": {
     "base_uri": "https://localhost:8080/",
     "height": 35
    },
    "colab_type": "code",
    "id": "GhfXlBdJQFr9",
    "outputId": "500b7540-7641-41eb-fba1-e7dd0a49c475"
   },
   "outputs": [
    {
     "data": {
      "text/plain": [
       "array([6, 2, 5, 5, 2, 7, 6, 4, 6, 0, 2, 3, 1, 3, 5, 0, 2, 7, 4, 7, 7, 3,\n",
       "       1, 4, 5, 2, 3, 6, 2, 7, 6, 1, 4, 6, 4, 2, 2, 1, 7, 1, 4, 4, 0, 4,\n",
       "       3, 6, 0, 7, 7, 2, 6, 3, 3, 2, 3, 1, 3, 0, 2, 6, 7, 7, 6, 6, 3, 5,\n",
       "       0, 2, 7, 1, 1, 2, 4, 6, 2, 1, 6, 6, 4, 2, 3, 5, 4, 2, 7, 6, 7, 1,\n",
       "       1, 3, 6, 4, 5, 4, 2, 7, 2, 1, 1, 4, 2, 6, 2, 5, 1, 4, 4, 4, 5, 1,\n",
       "       0, 3, 2, 4, 5, 4, 7, 7, 5, 7, 3, 3, 6, 3, 5, 6, 2, 2, 6, 4, 0, 7,\n",
       "       2, 1, 7, 3, 4, 5, 7, 7, 6, 4, 2, 2, 7, 5, 2, 5, 7, 6, 0, 4, 0, 2,\n",
       "       7, 1, 0, 5, 4, 0, 6, 2, 2, 1, 4, 3, 1, 7, 1, 5, 3, 6, 4, 5, 4, 0,\n",
       "       6, 7, 7, 0, 4, 4, 5, 6, 5, 6, 6, 2, 3, 6, 6, 2, 5, 7, 3, 6, 1, 0,\n",
       "       7, 7, 4, 2, 7, 4, 3, 3, 5, 4, 0, 1, 5, 4, 7, 3, 5, 4, 7, 5, 7, 2,\n",
       "       7, 6, 0, 2, 4, 4, 6, 5, 2, 1, 3, 7, 1, 1, 2, 0, 5, 3, 1, 5, 6, 6,\n",
       "       6, 7, 7, 0, 1, 5, 1, 5, 5, 4, 0, 0, 3, 1, 6, 1, 7, 5, 6, 2, 2, 1,\n",
       "       0, 3, 2, 3, 5, 7, 3, 1, 2, 2, 1, 7, 5, 7, 1, 1, 4, 5, 2, 2, 6, 3,\n",
       "       6, 6, 7, 7, 1, 1, 5, 6, 7, 5, 6, 0, 3, 4, 4, 2, 2, 4, 5, 4, 4, 1,\n",
       "       6, 6, 5, 3, 6, 2, 5, 0, 5, 4, 4, 5, 2, 2, 4, 3, 4, 6, 6, 3, 5, 2,\n",
       "       5, 4, 3, 7, 1, 1, 0, 2, 1, 4, 5, 0, 3, 7, 7, 6, 0, 0, 4, 3, 0, 6,\n",
       "       2, 4, 6, 4, 4, 3, 3, 6, 0, 3, 1, 1, 1, 7, 2, 0, 2, 1, 4, 2, 4, 2,\n",
       "       7, 4, 5, 6, 6, 7, 3, 6, 2, 7, 1, 5, 2, 6, 1, 6, 1, 1, 6, 2, 1, 3,\n",
       "       3, 3, 4, 1, 7, 5, 5, 4, 0, 0, 6, 1, 6, 6, 2, 7, 5, 7, 3, 6, 6, 5,\n",
       "       1, 4, 2, 4, 5, 6, 3, 7, 3, 7, 7, 4, 7, 0, 2, 2, 7, 6, 1, 2, 3, 5,\n",
       "       4, 7, 7, 4, 5, 5, 5, 0, 5, 4, 2, 6, 3, 3, 0, 6, 1, 3, 5, 6, 5, 5,\n",
       "       0, 4, 5, 7, 6, 6, 4, 1, 6, 6, 6, 1, 2, 3, 0, 5, 5, 3, 7, 7, 7, 4,\n",
       "       6, 2, 7, 3, 5, 5, 4, 2, 1, 7, 3, 4, 6, 6, 5, 0, 5, 2, 5, 2, 7, 3,\n",
       "       5, 5, 2, 5, 4, 2, 3, 4, 7, 2, 2, 3, 1, 6, 1, 4, 4, 1, 6, 4, 7, 1,\n",
       "       2, 6, 2, 7, 2, 5, 1, 5, 4, 3, 1, 5, 5, 4, 2, 3, 1, 1, 6, 6, 2, 2,\n",
       "       5, 6, 7, 5, 4, 7, 0, 1, 7, 7, 5, 7, 6, 2, 4, 1, 0, 5, 2, 7, 7, 4,\n",
       "       6, 1, 5, 0, 2, 1, 6, 1, 3, 0, 1, 2, 4, 3, 3, 5, 7, 3, 5, 7, 5, 1,\n",
       "       2, 2, 2, 7, 5, 0, 1, 5, 2, 2, 3, 2, 2, 3, 0, 1, 2, 7, 7, 4, 4, 2,\n",
       "       0, 1, 0, 5, 7, 2, 7, 4, 6, 7, 4, 1, 5, 6, 2, 1, 5, 3, 3, 4, 6, 4,\n",
       "       1, 3, 7, 7, 5, 0, 3, 3, 2, 4, 6, 6, 5, 7, 6, 1, 0, 3, 3, 5, 7, 4,\n",
       "       7, 5, 2, 5, 6, 7, 6, 2, 3, 6, 2, 2, 2, 1, 6, 2, 2, 1, 1, 0, 4, 1,\n",
       "       3, 0, 6, 3, 4, 2, 4, 7, 2, 4, 1, 2, 5, 0, 6, 5, 1, 3, 0, 7, 6, 4,\n",
       "       4, 3, 4, 2, 0, 6, 5, 7, 2, 2, 2, 4, 1, 2, 4, 6, 1, 6, 0, 3, 5, 7,\n",
       "       6, 2, 7, 3, 3, 6, 7, 1, 6, 0, 6, 5, 5, 6, 6, 7, 6, 7, 6, 5, 4, 6,\n",
       "       7, 5, 3, 5, 6, 5, 3, 1, 1, 0, 6, 5, 3, 2, 1, 1, 0, 7, 5, 0, 1, 5,\n",
       "       1, 0, 1, 7, 6, 7, 7, 6, 4, 7, 3, 3, 2, 7, 2, 6, 1, 3, 4, 0, 5, 5,\n",
       "       3, 7, 4, 2, 5, 3, 1, 1, 1, 1, 1, 3, 1, 7, 3, 2, 5, 0, 4, 1, 2, 6,\n",
       "       4, 7, 3, 2, 0, 3, 5, 1, 0, 6, 7, 2, 0, 7, 3, 4, 7, 5, 7, 6, 4, 1,\n",
       "       3, 5, 3, 6, 5, 3, 3, 2, 6, 6, 2, 5, 7, 7, 1, 0, 7, 7, 4, 4, 7, 2,\n",
       "       7, 5, 5, 5, 0, 6, 4, 4, 5, 3, 3, 6, 2, 2, 2, 5, 1, 2, 2, 5, 1, 0,\n",
       "       4, 6, 7, 6, 5, 6, 6, 3, 5, 4, 5, 1, 5, 0, 5, 7, 0, 7, 6, 1, 1, 2,\n",
       "       5, 7, 6, 7, 5, 7, 1, 1, 6, 1, 2, 7, 2, 2, 3, 1, 1, 2, 3, 7, 3, 5,\n",
       "       7, 0, 6, 1, 1, 1, 5, 1, 3, 6, 1, 7, 1, 4, 5, 3, 5, 3, 3, 6, 2, 7,\n",
       "       1, 2, 0, 5, 0])"
      ]
     },
     "execution_count": 25,
     "metadata": {},
     "output_type": "execute_result"
    }
   ],
   "source": [
    "y_test"
   ]
  },
  {
   "cell_type": "code",
   "execution_count": 26,
   "metadata": {
    "colab": {},
    "colab_type": "code",
    "id": "FC1heRemQJHA"
   },
   "outputs": [],
   "source": [
    "new_Ytest = y_test.astype(int)"
   ]
  },
  {
   "cell_type": "code",
   "execution_count": 27,
   "metadata": {
    "colab": {
     "base_uri": "https://localhost:8080/",
     "height": 35
    },
    "colab_type": "code",
    "id": "65ZqfKMHQNBY",
    "outputId": "d1f51eb3-ab89-492a-adc3-0d770a342096"
   },
   "outputs": [
    {
     "data": {
      "text/plain": [
       "array([6, 2, 5, 5, 2, 7, 6, 4, 6, 0, 2, 3, 1, 3, 5, 0, 2, 7, 4, 7, 7, 3,\n",
       "       1, 4, 5, 2, 3, 6, 2, 7, 6, 1, 4, 6, 4, 2, 2, 1, 7, 1, 4, 4, 0, 4,\n",
       "       3, 6, 0, 7, 7, 2, 6, 3, 3, 2, 3, 1, 3, 0, 2, 6, 7, 7, 6, 6, 3, 5,\n",
       "       0, 2, 7, 1, 1, 2, 4, 6, 2, 1, 6, 6, 4, 2, 3, 5, 4, 2, 7, 6, 7, 1,\n",
       "       1, 3, 6, 4, 5, 4, 2, 7, 2, 1, 1, 4, 2, 6, 2, 5, 1, 4, 4, 4, 5, 1,\n",
       "       0, 3, 2, 4, 5, 4, 7, 7, 5, 7, 3, 3, 6, 3, 5, 6, 2, 2, 6, 4, 0, 7,\n",
       "       2, 1, 7, 3, 4, 5, 7, 7, 6, 4, 2, 2, 7, 5, 2, 5, 7, 6, 0, 4, 0, 2,\n",
       "       7, 1, 0, 5, 4, 0, 6, 2, 2, 1, 4, 3, 1, 7, 1, 5, 3, 6, 4, 5, 4, 0,\n",
       "       6, 7, 7, 0, 4, 4, 5, 6, 5, 6, 6, 2, 3, 6, 6, 2, 5, 7, 3, 6, 1, 0,\n",
       "       7, 7, 4, 2, 7, 4, 3, 3, 5, 4, 0, 1, 5, 4, 7, 3, 5, 4, 7, 5, 7, 2,\n",
       "       7, 6, 0, 2, 4, 4, 6, 5, 2, 1, 3, 7, 1, 1, 2, 0, 5, 3, 1, 5, 6, 6,\n",
       "       6, 7, 7, 0, 1, 5, 1, 5, 5, 4, 0, 0, 3, 1, 6, 1, 7, 5, 6, 2, 2, 1,\n",
       "       0, 3, 2, 3, 5, 7, 3, 1, 2, 2, 1, 7, 5, 7, 1, 1, 4, 5, 2, 2, 6, 3,\n",
       "       6, 6, 7, 7, 1, 1, 5, 6, 7, 5, 6, 0, 3, 4, 4, 2, 2, 4, 5, 4, 4, 1,\n",
       "       6, 6, 5, 3, 6, 2, 5, 0, 5, 4, 4, 5, 2, 2, 4, 3, 4, 6, 6, 3, 5, 2,\n",
       "       5, 4, 3, 7, 1, 1, 0, 2, 1, 4, 5, 0, 3, 7, 7, 6, 0, 0, 4, 3, 0, 6,\n",
       "       2, 4, 6, 4, 4, 3, 3, 6, 0, 3, 1, 1, 1, 7, 2, 0, 2, 1, 4, 2, 4, 2,\n",
       "       7, 4, 5, 6, 6, 7, 3, 6, 2, 7, 1, 5, 2, 6, 1, 6, 1, 1, 6, 2, 1, 3,\n",
       "       3, 3, 4, 1, 7, 5, 5, 4, 0, 0, 6, 1, 6, 6, 2, 7, 5, 7, 3, 6, 6, 5,\n",
       "       1, 4, 2, 4, 5, 6, 3, 7, 3, 7, 7, 4, 7, 0, 2, 2, 7, 6, 1, 2, 3, 5,\n",
       "       4, 7, 7, 4, 5, 5, 5, 0, 5, 4, 2, 6, 3, 3, 0, 6, 1, 3, 5, 6, 5, 5,\n",
       "       0, 4, 5, 7, 6, 6, 4, 1, 6, 6, 6, 1, 2, 3, 0, 5, 5, 3, 7, 7, 7, 4,\n",
       "       6, 2, 7, 3, 5, 5, 4, 2, 1, 7, 3, 4, 6, 6, 5, 0, 5, 2, 5, 2, 7, 3,\n",
       "       5, 5, 2, 5, 4, 2, 3, 4, 7, 2, 2, 3, 1, 6, 1, 4, 4, 1, 6, 4, 7, 1,\n",
       "       2, 6, 2, 7, 2, 5, 1, 5, 4, 3, 1, 5, 5, 4, 2, 3, 1, 1, 6, 6, 2, 2,\n",
       "       5, 6, 7, 5, 4, 7, 0, 1, 7, 7, 5, 7, 6, 2, 4, 1, 0, 5, 2, 7, 7, 4,\n",
       "       6, 1, 5, 0, 2, 1, 6, 1, 3, 0, 1, 2, 4, 3, 3, 5, 7, 3, 5, 7, 5, 1,\n",
       "       2, 2, 2, 7, 5, 0, 1, 5, 2, 2, 3, 2, 2, 3, 0, 1, 2, 7, 7, 4, 4, 2,\n",
       "       0, 1, 0, 5, 7, 2, 7, 4, 6, 7, 4, 1, 5, 6, 2, 1, 5, 3, 3, 4, 6, 4,\n",
       "       1, 3, 7, 7, 5, 0, 3, 3, 2, 4, 6, 6, 5, 7, 6, 1, 0, 3, 3, 5, 7, 4,\n",
       "       7, 5, 2, 5, 6, 7, 6, 2, 3, 6, 2, 2, 2, 1, 6, 2, 2, 1, 1, 0, 4, 1,\n",
       "       3, 0, 6, 3, 4, 2, 4, 7, 2, 4, 1, 2, 5, 0, 6, 5, 1, 3, 0, 7, 6, 4,\n",
       "       4, 3, 4, 2, 0, 6, 5, 7, 2, 2, 2, 4, 1, 2, 4, 6, 1, 6, 0, 3, 5, 7,\n",
       "       6, 2, 7, 3, 3, 6, 7, 1, 6, 0, 6, 5, 5, 6, 6, 7, 6, 7, 6, 5, 4, 6,\n",
       "       7, 5, 3, 5, 6, 5, 3, 1, 1, 0, 6, 5, 3, 2, 1, 1, 0, 7, 5, 0, 1, 5,\n",
       "       1, 0, 1, 7, 6, 7, 7, 6, 4, 7, 3, 3, 2, 7, 2, 6, 1, 3, 4, 0, 5, 5,\n",
       "       3, 7, 4, 2, 5, 3, 1, 1, 1, 1, 1, 3, 1, 7, 3, 2, 5, 0, 4, 1, 2, 6,\n",
       "       4, 7, 3, 2, 0, 3, 5, 1, 0, 6, 7, 2, 0, 7, 3, 4, 7, 5, 7, 6, 4, 1,\n",
       "       3, 5, 3, 6, 5, 3, 3, 2, 6, 6, 2, 5, 7, 7, 1, 0, 7, 7, 4, 4, 7, 2,\n",
       "       7, 5, 5, 5, 0, 6, 4, 4, 5, 3, 3, 6, 2, 2, 2, 5, 1, 2, 2, 5, 1, 0,\n",
       "       4, 6, 7, 6, 5, 6, 6, 3, 5, 4, 5, 1, 5, 0, 5, 7, 0, 7, 6, 1, 1, 2,\n",
       "       5, 7, 6, 7, 5, 7, 1, 1, 6, 1, 2, 7, 2, 2, 3, 1, 1, 2, 3, 7, 3, 5,\n",
       "       7, 0, 6, 1, 1, 1, 5, 1, 3, 6, 1, 7, 1, 4, 5, 3, 5, 3, 3, 6, 2, 7,\n",
       "       1, 2, 0, 5, 0])"
      ]
     },
     "execution_count": 27,
     "metadata": {},
     "output_type": "execute_result"
    }
   ],
   "source": [
    "new_Ytest"
   ]
  },
  {
   "cell_type": "code",
   "execution_count": 28,
   "metadata": {
    "colab": {
     "base_uri": "https://localhost:8080/",
     "height": 284
    },
    "colab_type": "code",
    "id": "wK2gsnN-QO1C",
    "outputId": "fdd8cf81-901f-42a9-ac51-0cbe2fbad867"
   },
   "outputs": [
    {
     "name": "stdout",
     "output_type": "stream",
     "text": [
      "              precision    recall  f1-score   support\n",
      "\n",
      "           0       0.80      0.64      0.71        73\n",
      "           1       0.74      0.85      0.79       124\n",
      "           2       0.81      0.70      0.75       135\n",
      "           3       0.79      0.83      0.81       109\n",
      "           4       0.78      0.75      0.76       112\n",
      "           5       0.82      0.85      0.84       133\n",
      "           6       0.75      0.77      0.76       133\n",
      "           7       0.76      0.77      0.77       132\n",
      "\n",
      "    accuracy                           0.78       951\n",
      "   macro avg       0.78      0.77      0.78       951\n",
      "weighted avg       0.78      0.78      0.78       951\n",
      "\n"
     ]
    }
   ],
   "source": [
    "from sklearn.metrics import classification_report\n",
    "report = classification_report(new_Ytest, predictions)\n",
    "print(report)"
   ]
  },
  {
   "cell_type": "code",
   "execution_count": 29,
   "metadata": {
    "colab": {
     "base_uri": "https://localhost:8080/",
     "height": 159
    },
    "colab_type": "code",
    "id": "XipKuFRTQSFj",
    "outputId": "c55049fe-4461-4899-e70a-87555479dd4c"
   },
   "outputs": [
    {
     "name": "stdout",
     "output_type": "stream",
     "text": [
      "[[ 47  12   0   6   4   0   2   2]\n",
      " [  6 106   4   6   0   0   0   2]\n",
      " [  2   0  95   0   6  12   6  14]\n",
      " [  0   4   2  91   2   4   4   2]\n",
      " [  0   2   8   2  84   2   8   6]\n",
      " [  0   4   4   4   2 113   6   0]\n",
      " [  4  12   0   2   2   4 103   6]\n",
      " [  0   4   4   4   8   2   8 102]]\n"
     ]
    }
   ],
   "source": [
    "from sklearn.metrics import confusion_matrix\n",
    "matrix = confusion_matrix(new_Ytest, predictions)\n",
    "print (matrix)\n",
    "\n",
    "# 0 = neutral, 1 = calm, 2 = happy, 3 = sad, 4 = angry, 5 = fearful, 6 = disgust, 7 = surprised"
   ]
  },
  {
   "cell_type": "code",
   "execution_count": 30,
   "metadata": {
    "colab": {
     "base_uri": "https://localhost:8080/",
     "height": 35
    },
    "colab_type": "code",
    "id": "ORm3pz9NQdlW",
    "outputId": "a50537b9-f833-4d66-cafb-eec3f3fd219a"
   },
   "outputs": [],
   "source": [
    "model.save('C:/Users/vip/Documents/speech_final/testing10_model.h5')\n",
    "print(\"MODEL SAVED\")"
   ]
  },
  {
   "cell_type": "code",
   "execution_count": null,
   "metadata": {
    "colab": {
     "base_uri": "https://localhost:8080/",
     "height": 657
    },
    "colab_type": "code",
    "id": "6aFHzp7PQvMJ",
    "outputId": "fcd82c73-683a-4dde-c866-aafaa285fa66"
   },
   "outputs": [],
   "source": [
    "new_model=keras.models.load_model('C:/Users/vip/Documents/speech_final/testing10_model.h5')\n",
    "new_model.summary()"
   ]
  },
  {
   "cell_type": "code",
   "execution_count": 41,
   "metadata": {
    "colab": {
     "base_uri": "https://localhost:8080/",
     "height": 52
    },
    "colab_type": "code",
    "id": "whzXUxB5Q06g",
    "outputId": "95bca73d-1171-4b97-c46f-2c7c74e5587b"
   },
   "outputs": [
    {
     "name": "stdout",
     "output_type": "stream",
     "text": [
      "30/30 [==============================] - 0s 2ms/step - loss: 0.4710 - accuracy: 0.8843\n",
      "Restored model, accuracy: 88.43%\n"
     ]
    }
   ],
   "source": [
    "loss, acc = new_model.evaluate(x_testcnn, y_test)\n",
    "print(\"Restored model, accuracy: {:5.2f}%\".format(100*acc))"
   ]
  },
  {
   "cell_type": "code",
   "execution_count": null,
   "metadata": {
    "colab": {},
    "colab_type": "code",
    "id": "r6n31dxyQ5Sp"
   },
   "outputs": [],
   "source": []
  }
 ],
 "metadata": {
  "colab": {
   "collapsed_sections": [],
   "name": "Testing10(Deep Learning).ipynb",
   "provenance": []
  },
  "kernelspec": {
   "display_name": "Python 3",
   "language": "python",
   "name": "python3"
  },
  "language_info": {
   "codemirror_mode": {
    "name": "ipython",
    "version": 3
   },
   "file_extension": ".py",
   "mimetype": "text/x-python",
   "name": "python",
   "nbconvert_exporter": "python",
   "pygments_lexer": "ipython3",
   "version": "3.8.5"
  }
 },
 "nbformat": 4,
 "nbformat_minor": 1
}
